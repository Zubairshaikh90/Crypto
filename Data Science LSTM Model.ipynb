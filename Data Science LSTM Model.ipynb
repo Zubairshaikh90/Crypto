{
 "cells": [
  {
   "cell_type": "code",
   "execution_count": 1,
   "metadata": {},
   "outputs": [],
   "source": [
    "import numpy as np\n",
    "from tensorflow.keras.models import Sequential\n",
    "from tensorflow.keras.layers import LSTM\n",
    "from tensorflow.keras.layers import Dense\n",
    "from tensorflow.keras.layers import Flatten\n",
    "import pandas as pd"
   ]
  },
  {
   "cell_type": "code",
   "execution_count": 6,
   "metadata": {},
   "outputs": [
    {
     "data": {
      "text/html": [
       "<div>\n",
       "<style scoped>\n",
       "    .dataframe tbody tr th:only-of-type {\n",
       "        vertical-align: middle;\n",
       "    }\n",
       "\n",
       "    .dataframe tbody tr th {\n",
       "        vertical-align: top;\n",
       "    }\n",
       "\n",
       "    .dataframe thead th {\n",
       "        text-align: right;\n",
       "    }\n",
       "</style>\n",
       "<table border=\"1\" class=\"dataframe\">\n",
       "  <thead>\n",
       "    <tr style=\"text-align: right;\">\n",
       "      <th></th>\n",
       "      <th>Date</th>\n",
       "      <th>Price</th>\n",
       "      <th>Open</th>\n",
       "      <th>High</th>\n",
       "      <th>Low</th>\n",
       "      <th>Change %</th>\n",
       "    </tr>\n",
       "  </thead>\n",
       "  <tbody>\n",
       "    <tr>\n",
       "      <td>0</td>\n",
       "      <td>1992</td>\n",
       "      <td>25.193</td>\n",
       "      <td>25.193</td>\n",
       "      <td>25.193</td>\n",
       "      <td>25.193</td>\n",
       "      <td>0.00%</td>\n",
       "    </tr>\n",
       "    <tr>\n",
       "      <td>1</td>\n",
       "      <td>1993</td>\n",
       "      <td>30.090</td>\n",
       "      <td>30.090</td>\n",
       "      <td>30.090</td>\n",
       "      <td>30.090</td>\n",
       "      <td>0.23%</td>\n",
       "    </tr>\n",
       "    <tr>\n",
       "      <td>2</td>\n",
       "      <td>1994</td>\n",
       "      <td>30.769</td>\n",
       "      <td>30.769</td>\n",
       "      <td>30.769</td>\n",
       "      <td>30.769</td>\n",
       "      <td>0.49%</td>\n",
       "    </tr>\n",
       "    <tr>\n",
       "      <td>3</td>\n",
       "      <td>1995</td>\n",
       "      <td>34.216</td>\n",
       "      <td>34.216</td>\n",
       "      <td>34.216</td>\n",
       "      <td>34.216</td>\n",
       "      <td>0.00%</td>\n",
       "    </tr>\n",
       "    <tr>\n",
       "      <td>4</td>\n",
       "      <td>1996</td>\n",
       "      <td>40.080</td>\n",
       "      <td>40.080</td>\n",
       "      <td>40.080</td>\n",
       "      <td>40.080</td>\n",
       "      <td>0.00%</td>\n",
       "    </tr>\n",
       "    <tr>\n",
       "      <td>5</td>\n",
       "      <td>1997</td>\n",
       "      <td>44.006</td>\n",
       "      <td>44.006</td>\n",
       "      <td>44.006</td>\n",
       "      <td>44.006</td>\n",
       "      <td>0.00%</td>\n",
       "    </tr>\n",
       "    <tr>\n",
       "      <td>6</td>\n",
       "      <td>1998</td>\n",
       "      <td>49.700</td>\n",
       "      <td>49.700</td>\n",
       "      <td>49.700</td>\n",
       "      <td>49.700</td>\n",
       "      <td>-7.71%</td>\n",
       "    </tr>\n",
       "    <tr>\n",
       "      <td>7</td>\n",
       "      <td>1999</td>\n",
       "      <td>51.815</td>\n",
       "      <td>51.790</td>\n",
       "      <td>51.815</td>\n",
       "      <td>51.790</td>\n",
       "      <td>-0.26%</td>\n",
       "    </tr>\n",
       "    <tr>\n",
       "      <td>8</td>\n",
       "      <td>2000</td>\n",
       "      <td>58.150</td>\n",
       "      <td>57.800</td>\n",
       "      <td>58.150</td>\n",
       "      <td>57.800</td>\n",
       "      <td>1.04%</td>\n",
       "    </tr>\n",
       "    <tr>\n",
       "      <td>9</td>\n",
       "      <td>2001</td>\n",
       "      <td>59.900</td>\n",
       "      <td>60.810</td>\n",
       "      <td>61.050</td>\n",
       "      <td>59.750</td>\n",
       "      <td>-1.48%</td>\n",
       "    </tr>\n",
       "    <tr>\n",
       "      <td>10</td>\n",
       "      <td>2002</td>\n",
       "      <td>58.225</td>\n",
       "      <td>58.260</td>\n",
       "      <td>58.775</td>\n",
       "      <td>57.900</td>\n",
       "      <td>-0.05%</td>\n",
       "    </tr>\n",
       "    <tr>\n",
       "      <td>11</td>\n",
       "      <td>2003</td>\n",
       "      <td>57.230</td>\n",
       "      <td>57.210</td>\n",
       "      <td>57.570</td>\n",
       "      <td>56.950</td>\n",
       "      <td>-0.56%</td>\n",
       "    </tr>\n",
       "    <tr>\n",
       "      <td>12</td>\n",
       "      <td>2004</td>\n",
       "      <td>59.425</td>\n",
       "      <td>59.650</td>\n",
       "      <td>59.775</td>\n",
       "      <td>59.150</td>\n",
       "      <td>-0.42%</td>\n",
       "    </tr>\n",
       "    <tr>\n",
       "      <td>13</td>\n",
       "      <td>2005</td>\n",
       "      <td>59.770</td>\n",
       "      <td>59.755</td>\n",
       "      <td>59.970</td>\n",
       "      <td>59.600</td>\n",
       "      <td>0.10%</td>\n",
       "    </tr>\n",
       "    <tr>\n",
       "      <td>14</td>\n",
       "      <td>2006</td>\n",
       "      <td>60.790</td>\n",
       "      <td>60.870</td>\n",
       "      <td>61.020</td>\n",
       "      <td>60.740</td>\n",
       "      <td>-0.39%</td>\n",
       "    </tr>\n",
       "    <tr>\n",
       "      <td>15</td>\n",
       "      <td>2007</td>\n",
       "      <td>61.650</td>\n",
       "      <td>61.150</td>\n",
       "      <td>62.100</td>\n",
       "      <td>60.600</td>\n",
       "      <td>0.65%</td>\n",
       "    </tr>\n",
       "    <tr>\n",
       "      <td>16</td>\n",
       "      <td>2008</td>\n",
       "      <td>79.125</td>\n",
       "      <td>78.325</td>\n",
       "      <td>81.325</td>\n",
       "      <td>77.525</td>\n",
       "      <td>0.92%</td>\n",
       "    </tr>\n",
       "    <tr>\n",
       "      <td>17</td>\n",
       "      <td>2009</td>\n",
       "      <td>84.400</td>\n",
       "      <td>83.250</td>\n",
       "      <td>84.680</td>\n",
       "      <td>83.250</td>\n",
       "      <td>1.38%</td>\n",
       "    </tr>\n",
       "    <tr>\n",
       "      <td>18</td>\n",
       "      <td>2010</td>\n",
       "      <td>85.600</td>\n",
       "      <td>85.700</td>\n",
       "      <td>86.360</td>\n",
       "      <td>85.425</td>\n",
       "      <td>-0.12%</td>\n",
       "    </tr>\n",
       "    <tr>\n",
       "      <td>19</td>\n",
       "      <td>2011</td>\n",
       "      <td>89.780</td>\n",
       "      <td>88.650</td>\n",
       "      <td>90.055</td>\n",
       "      <td>88.450</td>\n",
       "      <td>1.27%</td>\n",
       "    </tr>\n",
       "    <tr>\n",
       "      <td>20</td>\n",
       "      <td>2012</td>\n",
       "      <td>97.170</td>\n",
       "      <td>96.580</td>\n",
       "      <td>98.285</td>\n",
       "      <td>96.460</td>\n",
       "      <td>0.72%</td>\n",
       "    </tr>\n",
       "    <tr>\n",
       "      <td>21</td>\n",
       "      <td>2013</td>\n",
       "      <td>105.250</td>\n",
       "      <td>108.450</td>\n",
       "      <td>108.675</td>\n",
       "      <td>105.075</td>\n",
       "      <td>-2.86%</td>\n",
       "    </tr>\n",
       "    <tr>\n",
       "      <td>22</td>\n",
       "      <td>2014</td>\n",
       "      <td>100.650</td>\n",
       "      <td>101.800</td>\n",
       "      <td>102.095</td>\n",
       "      <td>99.400</td>\n",
       "      <td>-1.03%</td>\n",
       "    </tr>\n",
       "    <tr>\n",
       "      <td>23</td>\n",
       "      <td>2015</td>\n",
       "      <td>104.700</td>\n",
       "      <td>105.495</td>\n",
       "      <td>105.560</td>\n",
       "      <td>103.465</td>\n",
       "      <td>-0.66%</td>\n",
       "    </tr>\n",
       "    <tr>\n",
       "      <td>24</td>\n",
       "      <td>2016</td>\n",
       "      <td>104.350</td>\n",
       "      <td>104.775</td>\n",
       "      <td>104.910</td>\n",
       "      <td>104.375</td>\n",
       "      <td>-0.38%</td>\n",
       "    </tr>\n",
       "    <tr>\n",
       "      <td>25</td>\n",
       "      <td>2017</td>\n",
       "      <td>110.400</td>\n",
       "      <td>105.380</td>\n",
       "      <td>111.180</td>\n",
       "      <td>105.250</td>\n",
       "      <td>4.91%</td>\n",
       "    </tr>\n",
       "    <tr>\n",
       "      <td>26</td>\n",
       "      <td>2018</td>\n",
       "      <td>139.800</td>\n",
       "      <td>138.900</td>\n",
       "      <td>139.990</td>\n",
       "      <td>133.950</td>\n",
       "      <td>0.65%</td>\n",
       "    </tr>\n",
       "    <tr>\n",
       "      <td>27</td>\n",
       "      <td>2019</td>\n",
       "      <td>154.500</td>\n",
       "      <td>155.275</td>\n",
       "      <td>156.755</td>\n",
       "      <td>154.120</td>\n",
       "      <td>-0.42%</td>\n",
       "    </tr>\n",
       "    <tr>\n",
       "      <td>28</td>\n",
       "      <td>2020</td>\n",
       "      <td>159.750</td>\n",
       "      <td>159.500</td>\n",
       "      <td>164.125</td>\n",
       "      <td>159.050</td>\n",
       "      <td>0.60%</td>\n",
       "    </tr>\n",
       "    <tr>\n",
       "      <td>29</td>\n",
       "      <td>2021</td>\n",
       "      <td>175.800</td>\n",
       "      <td>176.100</td>\n",
       "      <td>178.660</td>\n",
       "      <td>174.800</td>\n",
       "      <td>0.05%</td>\n",
       "    </tr>\n",
       "    <tr>\n",
       "      <td>30</td>\n",
       "      <td>2022</td>\n",
       "      <td>202.300</td>\n",
       "      <td>185.700</td>\n",
       "      <td>202.375</td>\n",
       "      <td>185.250</td>\n",
       "      <td>9.12%</td>\n",
       "    </tr>\n",
       "  </tbody>\n",
       "</table>\n",
       "</div>"
      ],
      "text/plain": [
       "    Date    Price     Open     High      Low Change %\n",
       "0   1992   25.193   25.193   25.193   25.193    0.00%\n",
       "1   1993   30.090   30.090   30.090   30.090    0.23%\n",
       "2   1994   30.769   30.769   30.769   30.769    0.49%\n",
       "3   1995   34.216   34.216   34.216   34.216    0.00%\n",
       "4   1996   40.080   40.080   40.080   40.080    0.00%\n",
       "5   1997   44.006   44.006   44.006   44.006    0.00%\n",
       "6   1998   49.700   49.700   49.700   49.700   -7.71%\n",
       "7   1999   51.815   51.790   51.815   51.790   -0.26%\n",
       "8   2000   58.150   57.800   58.150   57.800    1.04%\n",
       "9   2001   59.900   60.810   61.050   59.750   -1.48%\n",
       "10  2002   58.225   58.260   58.775   57.900   -0.05%\n",
       "11  2003   57.230   57.210   57.570   56.950   -0.56%\n",
       "12  2004   59.425   59.650   59.775   59.150   -0.42%\n",
       "13  2005   59.770   59.755   59.970   59.600    0.10%\n",
       "14  2006   60.790   60.870   61.020   60.740   -0.39%\n",
       "15  2007   61.650   61.150   62.100   60.600    0.65%\n",
       "16  2008   79.125   78.325   81.325   77.525    0.92%\n",
       "17  2009   84.400   83.250   84.680   83.250    1.38%\n",
       "18  2010   85.600   85.700   86.360   85.425   -0.12%\n",
       "19  2011   89.780   88.650   90.055   88.450    1.27%\n",
       "20  2012   97.170   96.580   98.285   96.460    0.72%\n",
       "21  2013  105.250  108.450  108.675  105.075   -2.86%\n",
       "22  2014  100.650  101.800  102.095   99.400   -1.03%\n",
       "23  2015  104.700  105.495  105.560  103.465   -0.66%\n",
       "24  2016  104.350  104.775  104.910  104.375   -0.38%\n",
       "25  2017  110.400  105.380  111.180  105.250    4.91%\n",
       "26  2018  139.800  138.900  139.990  133.950    0.65%\n",
       "27  2019  154.500  155.275  156.755  154.120   -0.42%\n",
       "28  2020  159.750  159.500  164.125  159.050    0.60%\n",
       "29  2021  175.800  176.100  178.660  174.800    0.05%\n",
       "30  2022  202.300  185.700  202.375  185.250    9.12%"
      ]
     },
     "execution_count": 6,
     "metadata": {},
     "output_type": "execute_result"
    }
   ],
   "source": [
    "Data = pd.read_csv('C:/Users/Jazi/Desktop/Data Science Challange by Jazib/Forcasting Yearly/Yearlydata.csv')\n",
    "Data"
   ]
  },
  {
   "cell_type": "code",
   "execution_count": 7,
   "metadata": {},
   "outputs": [
    {
     "name": "stdout",
     "output_type": "stream",
     "text": [
      "Number of rows::    31\n",
      "Number of columns::  6\n"
     ]
    }
   ],
   "source": [
    "print(\"Number of rows::   \",Data.shape[0])\n",
    "print(\"Number of columns:: \",Data.shape[1])"
   ]
  },
  {
   "cell_type": "code",
   "execution_count": 8,
   "metadata": {},
   "outputs": [
    {
     "data": {
      "text/plain": [
       "Index(['Date', 'Price', 'Open', 'High', 'Low', 'Change %'], dtype='object')"
      ]
     },
     "execution_count": 8,
     "metadata": {},
     "output_type": "execute_result"
    }
   ],
   "source": [
    "Data.keys()"
   ]
  },
  {
   "cell_type": "code",
   "execution_count": 10,
   "metadata": {},
   "outputs": [
    {
     "name": "stdout",
     "output_type": "stream",
     "text": [
      "Column Data Types::\n",
      " Date          int64\n",
      "Price       float64\n",
      "Open        float64\n",
      "High        float64\n",
      "Low         float64\n",
      "Change %     object\n",
      "dtype: object\n"
     ]
    }
   ],
   "source": [
    "print(\"Column Data Types::\\n\",Data.dtypes)"
   ]
  },
  {
   "cell_type": "code",
   "execution_count": 11,
   "metadata": {},
   "outputs": [
    {
     "name": "stdout",
     "output_type": "stream",
     "text": [
      "Columns with Missing Values:: []\n"
     ]
    }
   ],
   "source": [
    "print(\"Columns with Missing Values::\",Data.columns[Data.isnull().any()].tolist())"
   ]
  },
  {
   "cell_type": "code",
   "execution_count": 14,
   "metadata": {},
   "outputs": [
    {
     "name": "stdout",
     "output_type": "stream",
     "text": [
      "Number of rows with Missing Values:: 0\n"
     ]
    },
    {
     "name": "stderr",
     "output_type": "stream",
     "text": [
      "C:\\Users\\Jazi\\Anaconda3\\lib\\site-packages\\ipykernel_launcher.py:1: FutureWarning: Series.nonzero() is deprecated and will be removed in a future version.Use Series.to_numpy().nonzero() instead\n",
      "  \"\"\"Entry point for launching an IPython kernel.\n"
     ]
    }
   ],
   "source": [
    "print(\"Number of rows with Missing Values::\",len(pd.isnull(Data).any(1).nonzero()[0].tolist()))"
   ]
  },
  {
   "cell_type": "code",
   "execution_count": 16,
   "metadata": {},
   "outputs": [
    {
     "data": {
      "text/plain": [
       "0     False\n",
       "1     False\n",
       "2     False\n",
       "3     False\n",
       "4     False\n",
       "5     False\n",
       "6     False\n",
       "7     False\n",
       "8     False\n",
       "9     False\n",
       "10    False\n",
       "11    False\n",
       "12    False\n",
       "13    False\n",
       "14    False\n",
       "15    False\n",
       "16    False\n",
       "17    False\n",
       "18    False\n",
       "19    False\n",
       "20    False\n",
       "21    False\n",
       "22    False\n",
       "23    False\n",
       "24    False\n",
       "25    False\n",
       "26    False\n",
       "27    False\n",
       "28    False\n",
       "29    False\n",
       "30    False\n",
       "dtype: bool"
      ]
     },
     "execution_count": 16,
     "metadata": {},
     "output_type": "execute_result"
    }
   ],
   "source": [
    "Data.duplicated()"
   ]
  },
  {
   "cell_type": "code",
   "execution_count": 20,
   "metadata": {},
   "outputs": [],
   "source": [
    "feature = Data.iloc[0: , 0:2,]"
   ]
  },
  {
   "cell_type": "code",
   "execution_count": 21,
   "metadata": {},
   "outputs": [
    {
     "data": {
      "text/html": [
       "<div>\n",
       "<style scoped>\n",
       "    .dataframe tbody tr th:only-of-type {\n",
       "        vertical-align: middle;\n",
       "    }\n",
       "\n",
       "    .dataframe tbody tr th {\n",
       "        vertical-align: top;\n",
       "    }\n",
       "\n",
       "    .dataframe thead th {\n",
       "        text-align: right;\n",
       "    }\n",
       "</style>\n",
       "<table border=\"1\" class=\"dataframe\">\n",
       "  <thead>\n",
       "    <tr style=\"text-align: right;\">\n",
       "      <th></th>\n",
       "      <th>Date</th>\n",
       "      <th>Price</th>\n",
       "    </tr>\n",
       "  </thead>\n",
       "  <tbody>\n",
       "    <tr>\n",
       "      <td>0</td>\n",
       "      <td>1992</td>\n",
       "      <td>25.193</td>\n",
       "    </tr>\n",
       "    <tr>\n",
       "      <td>1</td>\n",
       "      <td>1993</td>\n",
       "      <td>30.090</td>\n",
       "    </tr>\n",
       "    <tr>\n",
       "      <td>2</td>\n",
       "      <td>1994</td>\n",
       "      <td>30.769</td>\n",
       "    </tr>\n",
       "    <tr>\n",
       "      <td>3</td>\n",
       "      <td>1995</td>\n",
       "      <td>34.216</td>\n",
       "    </tr>\n",
       "    <tr>\n",
       "      <td>4</td>\n",
       "      <td>1996</td>\n",
       "      <td>40.080</td>\n",
       "    </tr>\n",
       "    <tr>\n",
       "      <td>5</td>\n",
       "      <td>1997</td>\n",
       "      <td>44.006</td>\n",
       "    </tr>\n",
       "    <tr>\n",
       "      <td>6</td>\n",
       "      <td>1998</td>\n",
       "      <td>49.700</td>\n",
       "    </tr>\n",
       "    <tr>\n",
       "      <td>7</td>\n",
       "      <td>1999</td>\n",
       "      <td>51.815</td>\n",
       "    </tr>\n",
       "    <tr>\n",
       "      <td>8</td>\n",
       "      <td>2000</td>\n",
       "      <td>58.150</td>\n",
       "    </tr>\n",
       "    <tr>\n",
       "      <td>9</td>\n",
       "      <td>2001</td>\n",
       "      <td>59.900</td>\n",
       "    </tr>\n",
       "    <tr>\n",
       "      <td>10</td>\n",
       "      <td>2002</td>\n",
       "      <td>58.225</td>\n",
       "    </tr>\n",
       "    <tr>\n",
       "      <td>11</td>\n",
       "      <td>2003</td>\n",
       "      <td>57.230</td>\n",
       "    </tr>\n",
       "    <tr>\n",
       "      <td>12</td>\n",
       "      <td>2004</td>\n",
       "      <td>59.425</td>\n",
       "    </tr>\n",
       "    <tr>\n",
       "      <td>13</td>\n",
       "      <td>2005</td>\n",
       "      <td>59.770</td>\n",
       "    </tr>\n",
       "    <tr>\n",
       "      <td>14</td>\n",
       "      <td>2006</td>\n",
       "      <td>60.790</td>\n",
       "    </tr>\n",
       "    <tr>\n",
       "      <td>15</td>\n",
       "      <td>2007</td>\n",
       "      <td>61.650</td>\n",
       "    </tr>\n",
       "    <tr>\n",
       "      <td>16</td>\n",
       "      <td>2008</td>\n",
       "      <td>79.125</td>\n",
       "    </tr>\n",
       "    <tr>\n",
       "      <td>17</td>\n",
       "      <td>2009</td>\n",
       "      <td>84.400</td>\n",
       "    </tr>\n",
       "    <tr>\n",
       "      <td>18</td>\n",
       "      <td>2010</td>\n",
       "      <td>85.600</td>\n",
       "    </tr>\n",
       "    <tr>\n",
       "      <td>19</td>\n",
       "      <td>2011</td>\n",
       "      <td>89.780</td>\n",
       "    </tr>\n",
       "    <tr>\n",
       "      <td>20</td>\n",
       "      <td>2012</td>\n",
       "      <td>97.170</td>\n",
       "    </tr>\n",
       "    <tr>\n",
       "      <td>21</td>\n",
       "      <td>2013</td>\n",
       "      <td>105.250</td>\n",
       "    </tr>\n",
       "    <tr>\n",
       "      <td>22</td>\n",
       "      <td>2014</td>\n",
       "      <td>100.650</td>\n",
       "    </tr>\n",
       "    <tr>\n",
       "      <td>23</td>\n",
       "      <td>2015</td>\n",
       "      <td>104.700</td>\n",
       "    </tr>\n",
       "    <tr>\n",
       "      <td>24</td>\n",
       "      <td>2016</td>\n",
       "      <td>104.350</td>\n",
       "    </tr>\n",
       "    <tr>\n",
       "      <td>25</td>\n",
       "      <td>2017</td>\n",
       "      <td>110.400</td>\n",
       "    </tr>\n",
       "    <tr>\n",
       "      <td>26</td>\n",
       "      <td>2018</td>\n",
       "      <td>139.800</td>\n",
       "    </tr>\n",
       "    <tr>\n",
       "      <td>27</td>\n",
       "      <td>2019</td>\n",
       "      <td>154.500</td>\n",
       "    </tr>\n",
       "    <tr>\n",
       "      <td>28</td>\n",
       "      <td>2020</td>\n",
       "      <td>159.750</td>\n",
       "    </tr>\n",
       "    <tr>\n",
       "      <td>29</td>\n",
       "      <td>2021</td>\n",
       "      <td>175.800</td>\n",
       "    </tr>\n",
       "    <tr>\n",
       "      <td>30</td>\n",
       "      <td>2022</td>\n",
       "      <td>202.300</td>\n",
       "    </tr>\n",
       "  </tbody>\n",
       "</table>\n",
       "</div>"
      ],
      "text/plain": [
       "    Date    Price\n",
       "0   1992   25.193\n",
       "1   1993   30.090\n",
       "2   1994   30.769\n",
       "3   1995   34.216\n",
       "4   1996   40.080\n",
       "5   1997   44.006\n",
       "6   1998   49.700\n",
       "7   1999   51.815\n",
       "8   2000   58.150\n",
       "9   2001   59.900\n",
       "10  2002   58.225\n",
       "11  2003   57.230\n",
       "12  2004   59.425\n",
       "13  2005   59.770\n",
       "14  2006   60.790\n",
       "15  2007   61.650\n",
       "16  2008   79.125\n",
       "17  2009   84.400\n",
       "18  2010   85.600\n",
       "19  2011   89.780\n",
       "20  2012   97.170\n",
       "21  2013  105.250\n",
       "22  2014  100.650\n",
       "23  2015  104.700\n",
       "24  2016  104.350\n",
       "25  2017  110.400\n",
       "26  2018  139.800\n",
       "27  2019  154.500\n",
       "28  2020  159.750\n",
       "29  2021  175.800\n",
       "30  2022  202.300"
      ]
     },
     "execution_count": 21,
     "metadata": {},
     "output_type": "execute_result"
    }
   ],
   "source": [
    "feature"
   ]
  },
  {
   "cell_type": "code",
   "execution_count": 26,
   "metadata": {},
   "outputs": [
    {
     "data": {
      "text/plain": [
       "count     31.000000\n",
       "mean      83.051097\n",
       "std       45.090474\n",
       "min       25.193000\n",
       "25%       54.522500\n",
       "50%       61.650000\n",
       "75%      104.525000\n",
       "max      202.300000\n",
       "Name: Price, dtype: float64"
      ]
     },
     "execution_count": 26,
     "metadata": {},
     "output_type": "execute_result"
    }
   ],
   "source": [
    "Data['Price'].describe()"
   ]
  },
  {
   "cell_type": "code",
   "execution_count": 31,
   "metadata": {},
   "outputs": [],
   "source": [
    "where_condition = Data.loc[ (Data.Price) >= 170,:]"
   ]
  },
  {
   "cell_type": "code",
   "execution_count": 32,
   "metadata": {},
   "outputs": [
    {
     "data": {
      "text/html": [
       "<div>\n",
       "<style scoped>\n",
       "    .dataframe tbody tr th:only-of-type {\n",
       "        vertical-align: middle;\n",
       "    }\n",
       "\n",
       "    .dataframe tbody tr th {\n",
       "        vertical-align: top;\n",
       "    }\n",
       "\n",
       "    .dataframe thead th {\n",
       "        text-align: right;\n",
       "    }\n",
       "</style>\n",
       "<table border=\"1\" class=\"dataframe\">\n",
       "  <thead>\n",
       "    <tr style=\"text-align: right;\">\n",
       "      <th></th>\n",
       "      <th>Date</th>\n",
       "      <th>Price</th>\n",
       "      <th>Open</th>\n",
       "      <th>High</th>\n",
       "      <th>Low</th>\n",
       "      <th>Change %</th>\n",
       "    </tr>\n",
       "  </thead>\n",
       "  <tbody>\n",
       "    <tr>\n",
       "      <td>29</td>\n",
       "      <td>2021</td>\n",
       "      <td>175.8</td>\n",
       "      <td>176.1</td>\n",
       "      <td>178.660</td>\n",
       "      <td>174.80</td>\n",
       "      <td>0.05%</td>\n",
       "    </tr>\n",
       "    <tr>\n",
       "      <td>30</td>\n",
       "      <td>2022</td>\n",
       "      <td>202.3</td>\n",
       "      <td>185.7</td>\n",
       "      <td>202.375</td>\n",
       "      <td>185.25</td>\n",
       "      <td>9.12%</td>\n",
       "    </tr>\n",
       "  </tbody>\n",
       "</table>\n",
       "</div>"
      ],
      "text/plain": [
       "    Date  Price   Open     High     Low Change %\n",
       "29  2021  175.8  176.1  178.660  174.80    0.05%\n",
       "30  2022  202.3  185.7  202.375  185.25    9.12%"
      ]
     },
     "execution_count": 32,
     "metadata": {},
     "output_type": "execute_result"
    }
   ],
   "source": [
    "where_condition"
   ]
  },
  {
   "cell_type": "code",
   "execution_count": 149,
   "metadata": {},
   "outputs": [],
   "source": [
    "def prepare_data(timeseries_data, n_features):\n",
    "    X, y =[],[]\n",
    "    for i in range(len(timeseries_data)):\n",
    "        end_ix = i + n_features\n",
    "        if end_ix > len(timeseries_data)-1:\n",
    "            break\n",
    "        seq_x, seq_y = timeseries_data[i:end_ix], timeseries_data[end_ix]\n",
    "        X.append(seq_x)\n",
    "        y.append(seq_y)\n",
    "    return np.array(X), np.array(y)"
   ]
  },
  {
   "cell_type": "code",
   "execution_count": 47,
   "metadata": {},
   "outputs": [],
   "source": [
    "#extract_feature =Data['Price']"
   ]
  },
  {
   "cell_type": "code",
   "execution_count": 39,
   "metadata": {},
   "outputs": [
    {
     "data": {
      "text/plain": [
       "0      25.193\n",
       "1      30.090\n",
       "2      30.769\n",
       "3      34.216\n",
       "4      40.080\n",
       "5      44.006\n",
       "6      49.700\n",
       "7      51.815\n",
       "8      58.150\n",
       "9      59.900\n",
       "10     58.225\n",
       "11     57.230\n",
       "12     59.425\n",
       "13     59.770\n",
       "14     60.790\n",
       "15     61.650\n",
       "16     79.125\n",
       "17     84.400\n",
       "18     85.600\n",
       "19     89.780\n",
       "20     97.170\n",
       "21    105.250\n",
       "22    100.650\n",
       "23    104.700\n",
       "24    104.350\n",
       "25    110.400\n",
       "26    139.800\n",
       "27    154.500\n",
       "28    159.750\n",
       "29    175.800\n",
       "30    202.300\n",
       "Name: Price, dtype: float64"
      ]
     },
     "execution_count": 39,
     "metadata": {},
     "output_type": "execute_result"
    }
   ],
   "source": [
    "#extract_feature"
   ]
  },
  {
   "cell_type": "code",
   "execution_count": 64,
   "metadata": {},
   "outputs": [],
   "source": [
    "timeseries_data =Data['Price']\n",
    "n_steps = 1\n",
    "X, y = prepare_data(timeseries_data, n_steps)"
   ]
  },
  {
   "cell_type": "code",
   "execution_count": 65,
   "metadata": {},
   "outputs": [
    {
     "name": "stdout",
     "output_type": "stream",
     "text": [
      "[[ 25.193]\n",
      " [ 30.09 ]\n",
      " [ 30.769]\n",
      " [ 34.216]\n",
      " [ 40.08 ]\n",
      " [ 44.006]\n",
      " [ 49.7  ]\n",
      " [ 51.815]\n",
      " [ 58.15 ]\n",
      " [ 59.9  ]\n",
      " [ 58.225]\n",
      " [ 57.23 ]\n",
      " [ 59.425]\n",
      " [ 59.77 ]\n",
      " [ 60.79 ]\n",
      " [ 61.65 ]\n",
      " [ 79.125]\n",
      " [ 84.4  ]\n",
      " [ 85.6  ]\n",
      " [ 89.78 ]\n",
      " [ 97.17 ]\n",
      " [105.25 ]\n",
      " [100.65 ]\n",
      " [104.7  ]\n",
      " [104.35 ]\n",
      " [110.4  ]\n",
      " [139.8  ]\n",
      " [154.5  ]\n",
      " [159.75 ]\n",
      " [175.8  ]]\n",
      "[ 30.09   30.769  34.216  40.08   44.006  49.7    51.815  58.15   59.9\n",
      "  58.225  57.23   59.425  59.77   60.79   61.65   79.125  84.4    85.6\n",
      "  89.78   97.17  105.25  100.65  104.7   104.35  110.4   139.8   154.5\n",
      " 159.75  175.8   202.3  ]\n"
     ]
    },
    {
     "data": {
      "text/plain": [
       "(None, None)"
      ]
     },
     "execution_count": 65,
     "metadata": {},
     "output_type": "execute_result"
    }
   ],
   "source": [
    "print(X),print(y)"
   ]
  },
  {
   "cell_type": "code",
   "execution_count": 66,
   "metadata": {},
   "outputs": [
    {
     "data": {
      "text/plain": [
       "(30, 1)"
      ]
     },
     "execution_count": 66,
     "metadata": {},
     "output_type": "execute_result"
    }
   ],
   "source": [
    "X.shape"
   ]
  },
  {
   "cell_type": "code",
   "execution_count": 67,
   "metadata": {},
   "outputs": [],
   "source": [
    "n_features = 1\n",
    "X = X.reshape((X.shape[0], X.shape[1], n_features))"
   ]
  },
  {
   "cell_type": "code",
   "execution_count": 94,
   "metadata": {
    "scrolled": false
   },
   "outputs": [
    {
     "name": "stdout",
     "output_type": "stream",
     "text": [
      "Epoch 1/100\n",
      "1/1 [==============================] - 1s 1s/step - loss: 9340.5664\n",
      "Epoch 2/100\n",
      "1/1 [==============================] - 0s 0s/step - loss: 9314.8330\n",
      "Epoch 3/100\n",
      "1/1 [==============================] - 0s 0s/step - loss: 9289.7246\n",
      "Epoch 4/100\n",
      "1/1 [==============================] - 0s 16ms/step - loss: 9265.2031\n",
      "Epoch 5/100\n",
      "1/1 [==============================] - 0s 0s/step - loss: 9241.7119\n",
      "Epoch 6/100\n",
      "1/1 [==============================] - 0s 0s/step - loss: 9221.3223\n",
      "Epoch 7/100\n",
      "1/1 [==============================] - 0s 0s/step - loss: 9201.8857\n",
      "Epoch 8/100\n",
      "1/1 [==============================] - 0s 16ms/step - loss: 9182.5215\n",
      "Epoch 9/100\n",
      "1/1 [==============================] - 0s 0s/step - loss: 9163.1875\n",
      "Epoch 10/100\n",
      "1/1 [==============================] - 0s 0s/step - loss: 9143.8242\n",
      "Epoch 11/100\n",
      "1/1 [==============================] - 0s 16ms/step - loss: 9124.4385\n",
      "Epoch 12/100\n",
      "1/1 [==============================] - 0s 0s/step - loss: 9104.9629\n",
      "Epoch 13/100\n",
      "1/1 [==============================] - 0s 11ms/step - loss: 9085.3379\n",
      "Epoch 14/100\n",
      "1/1 [==============================] - 0s 0s/step - loss: 9065.4697\n",
      "Epoch 15/100\n",
      "1/1 [==============================] - 0s 4ms/step - loss: 9045.3643\n",
      "Epoch 16/100\n",
      "1/1 [==============================] - 0s 4ms/step - loss: 9025.0342\n",
      "Epoch 17/100\n",
      "1/1 [==============================] - 0s 5ms/step - loss: 9004.5322\n",
      "Epoch 18/100\n",
      "1/1 [==============================] - 0s 4ms/step - loss: 8983.7031\n",
      "Epoch 19/100\n",
      "1/1 [==============================] - 0s 1ms/step - loss: 8962.4512\n",
      "Epoch 20/100\n",
      "1/1 [==============================] - 0s 10ms/step - loss: 8940.7920\n",
      "Epoch 21/100\n",
      "1/1 [==============================] - 0s 4ms/step - loss: 8918.8369\n",
      "Epoch 22/100\n",
      "1/1 [==============================] - 0s 6ms/step - loss: 8897.1182\n",
      "Epoch 23/100\n",
      "1/1 [==============================] - 0s 9ms/step - loss: 8875.4619\n",
      "Epoch 24/100\n",
      "1/1 [==============================] - 0s 4ms/step - loss: 8853.0088\n",
      "Epoch 25/100\n",
      "1/1 [==============================] - 0s 5ms/step - loss: 8829.5488\n",
      "Epoch 26/100\n",
      "1/1 [==============================] - 0s 6ms/step - loss: 8805.4697\n",
      "Epoch 27/100\n",
      "1/1 [==============================] - 0s 4ms/step - loss: 8781.4326\n",
      "Epoch 28/100\n",
      "1/1 [==============================] - 0s 4ms/step - loss: 8755.7871\n",
      "Epoch 29/100\n",
      "1/1 [==============================] - 0s 5ms/step - loss: 8728.4082\n",
      "Epoch 30/100\n",
      "1/1 [==============================] - 0s 0s/step - loss: 8699.2793\n",
      "Epoch 31/100\n",
      "1/1 [==============================] - 0s 7ms/step - loss: 8668.1543\n",
      "Epoch 32/100\n",
      "1/1 [==============================] - 0s 4ms/step - loss: 8634.3779\n",
      "Epoch 33/100\n",
      "1/1 [==============================] - 0s 7ms/step - loss: 8597.8730\n",
      "Epoch 34/100\n",
      "1/1 [==============================] - 0s 5ms/step - loss: 8558.4092\n",
      "Epoch 35/100\n",
      "1/1 [==============================] - 0s 4ms/step - loss: 8515.6045\n",
      "Epoch 36/100\n",
      "1/1 [==============================] - 0s 6ms/step - loss: 8469.0361\n",
      "Epoch 37/100\n",
      "1/1 [==============================] - 0s 4ms/step - loss: 8418.2031\n",
      "Epoch 38/100\n",
      "1/1 [==============================] - 0s 6ms/step - loss: 8362.6729\n",
      "Epoch 39/100\n",
      "1/1 [==============================] - 0s 5ms/step - loss: 8302.0742\n",
      "Epoch 40/100\n",
      "1/1 [==============================] - 0s 4ms/step - loss: 8236.2031\n",
      "Epoch 41/100\n",
      "1/1 [==============================] - 0s 5ms/step - loss: 8165.1128\n",
      "Epoch 42/100\n",
      "1/1 [==============================] - 0s 0s/step - loss: 8089.1172\n",
      "Epoch 43/100\n",
      "1/1 [==============================] - 0s 7ms/step - loss: 8008.7139\n",
      "Epoch 44/100\n",
      "1/1 [==============================] - 0s 4ms/step - loss: 7924.4541\n",
      "Epoch 45/100\n",
      "1/1 [==============================] - 0s 3ms/step - loss: 7836.8247\n",
      "Epoch 46/100\n",
      "1/1 [==============================] - 0s 4ms/step - loss: 7746.1729\n",
      "Epoch 47/100\n",
      "1/1 [==============================] - 0s 3ms/step - loss: 7652.6851\n",
      "Epoch 48/100\n",
      "1/1 [==============================] - 0s 5ms/step - loss: 7556.4004\n",
      "Epoch 49/100\n",
      "1/1 [==============================] - 0s 6ms/step - loss: 7457.2031\n",
      "Epoch 50/100\n",
      "1/1 [==============================] - 0s 4ms/step - loss: 7354.8647\n",
      "Epoch 51/100\n",
      "1/1 [==============================] - 0s 7ms/step - loss: 7249.0127\n",
      "Epoch 52/100\n",
      "1/1 [==============================] - 0s 4ms/step - loss: 7138.9351\n",
      "Epoch 53/100\n",
      "1/1 [==============================] - 0s 3ms/step - loss: 7023.9351\n",
      "Epoch 54/100\n",
      "1/1 [==============================] - 0s 5ms/step - loss: 6901.4766\n",
      "Epoch 55/100\n",
      "1/1 [==============================] - 0s 14ms/step - loss: 6771.6284\n",
      "Epoch 56/100\n",
      "1/1 [==============================] - 0s 9ms/step - loss: 6634.0957\n",
      "Epoch 57/100\n",
      "1/1 [==============================] - 0s 0s/step - loss: 6487.8647\n",
      "Epoch 58/100\n",
      "1/1 [==============================] - 0s 12ms/step - loss: 6331.8315\n",
      "Epoch 59/100\n",
      "1/1 [==============================] - 0s 6ms/step - loss: 6164.9370\n",
      "Epoch 60/100\n",
      "1/1 [==============================] - 0s 5ms/step - loss: 5986.4326\n",
      "Epoch 61/100\n",
      "1/1 [==============================] - 0s 4ms/step - loss: 5796.2231\n",
      "Epoch 62/100\n",
      "1/1 [==============================] - 0s 8ms/step - loss: 5595.0156\n",
      "Epoch 63/100\n",
      "1/1 [==============================] - 0s 5ms/step - loss: 5384.0381\n",
      "Epoch 64/100\n",
      "1/1 [==============================] - 0s 5ms/step - loss: 5164.4277\n",
      "Epoch 65/100\n",
      "1/1 [==============================] - 0s 4ms/step - loss: 4936.7759\n",
      "Epoch 66/100\n",
      "1/1 [==============================] - 0s 4ms/step - loss: 4701.1216\n",
      "Epoch 67/100\n",
      "1/1 [==============================] - 0s 4ms/step - loss: 4457.1738\n",
      "Epoch 68/100\n",
      "1/1 [==============================] - 0s 4ms/step - loss: 4204.6079\n",
      "Epoch 69/100\n",
      "1/1 [==============================] - 0s 3ms/step - loss: 3942.9983\n",
      "Epoch 70/100\n",
      "1/1 [==============================] - 0s 5ms/step - loss: 3672.6533\n",
      "Epoch 71/100\n",
      "1/1 [==============================] - 0s 4ms/step - loss: 3394.1946\n",
      "Epoch 72/100\n",
      "1/1 [==============================] - 0s 4ms/step - loss: 3108.6399\n",
      "Epoch 73/100\n",
      "1/1 [==============================] - 0s 5ms/step - loss: 2817.3569\n",
      "Epoch 74/100\n",
      "1/1 [==============================] - 0s 4ms/step - loss: 2521.7114\n",
      "Epoch 75/100\n",
      "1/1 [==============================] - 0s 4ms/step - loss: 2222.2151\n",
      "Epoch 76/100\n",
      "1/1 [==============================] - 0s 4ms/step - loss: 1917.8990\n",
      "Epoch 77/100\n",
      "1/1 [==============================] - 0s 0s/step - loss: 1611.6760\n",
      "Epoch 78/100\n",
      "1/1 [==============================] - 0s 0s/step - loss: 1320.2125\n",
      "Epoch 79/100\n",
      "1/1 [==============================] - 0s 20ms/step - loss: 1058.2948\n",
      "Epoch 80/100\n",
      "1/1 [==============================] - 0s 6ms/step - loss: 828.5883\n",
      "Epoch 81/100\n",
      "1/1 [==============================] - 0s 3ms/step - loss: 630.3188\n",
      "Epoch 82/100\n",
      "1/1 [==============================] - 0s 2ms/step - loss: 462.5831\n",
      "Epoch 83/100\n",
      "1/1 [==============================] - 0s 10ms/step - loss: 324.8824\n",
      "Epoch 84/100\n",
      "1/1 [==============================] - 0s 0s/step - loss: 215.8542\n",
      "Epoch 85/100\n",
      "1/1 [==============================] - 0s 0s/step - loss: 133.7731\n",
      "Epoch 86/100\n",
      "1/1 [==============================] - 0s 0s/step - loss: 78.7468\n",
      "Epoch 87/100\n",
      "1/1 [==============================] - 0s 0s/step - loss: 50.0438\n",
      "Epoch 88/100\n",
      "1/1 [==============================] - 0s 0s/step - loss: 47.1088\n",
      "Epoch 89/100\n",
      "1/1 [==============================] - 0s 0s/step - loss: 66.4996\n",
      "Epoch 90/100\n",
      "1/1 [==============================] - 0s 16ms/step - loss: 97.0460\n",
      "Epoch 91/100\n",
      "1/1 [==============================] - 0s 0s/step - loss: 126.9619\n",
      "Epoch 92/100\n",
      "1/1 [==============================] - 0s 0s/step - loss: 149.0309\n",
      "Epoch 93/100\n",
      "1/1 [==============================] - 0s 0s/step - loss: 161.3726\n",
      "Epoch 94/100\n",
      "1/1 [==============================] - 0s 0s/step - loss: 165.1480\n",
      "Epoch 95/100\n",
      "1/1 [==============================] - 0s 0s/step - loss: 162.1508\n",
      "Epoch 96/100\n",
      "1/1 [==============================] - 0s 0s/step - loss: 154.0253\n",
      "Epoch 97/100\n",
      "1/1 [==============================] - 0s 16ms/step - loss: 142.3790\n",
      "Epoch 98/100\n",
      "1/1 [==============================] - 0s 0s/step - loss: 128.7591\n",
      "Epoch 99/100\n",
      "1/1 [==============================] - 0s 0s/step - loss: 115.2304\n",
      "Epoch 100/100\n",
      "1/1 [==============================] - 0s 16ms/step - loss: 103.4151\n"
     ]
    },
    {
     "data": {
      "text/plain": [
       "<keras.callbacks.History at 0x17def08d308>"
      ]
     },
     "execution_count": 94,
     "metadata": {},
     "output_type": "execute_result"
    }
   ],
   "source": [
    "model = Sequential()\n",
    "model.add(LSTM(55, activation='relu', return_sequences=True, input_shape=(n_steps, n_features)))\n",
    "model.add(LSTM(55, activation='relu'))\n",
    "model.add(Dense(1))\n",
    "model.compile(optimizer='adam', loss='mse')\n",
    "# fit model\n",
    "model.fit(X, y, epochs=100, verbose=1)"
   ]
  },
  {
   "cell_type": "code",
   "execution_count": 95,
   "metadata": {},
   "outputs": [
    {
     "data": {
      "text/plain": [
       "0      25.193\n",
       "1      30.090\n",
       "2      30.769\n",
       "3      34.216\n",
       "4      40.080\n",
       "5      44.006\n",
       "6      49.700\n",
       "7      51.815\n",
       "8      58.150\n",
       "9      59.900\n",
       "10     58.225\n",
       "11     57.230\n",
       "12     59.425\n",
       "13     59.770\n",
       "14     60.790\n",
       "15     61.650\n",
       "16     79.125\n",
       "17     84.400\n",
       "18     85.600\n",
       "19     89.780\n",
       "20     97.170\n",
       "21    105.250\n",
       "22    100.650\n",
       "23    104.700\n",
       "24    104.350\n",
       "25    110.400\n",
       "26    139.800\n",
       "27    154.500\n",
       "28    159.750\n",
       "29    175.800\n",
       "30    202.300\n",
       "Name: Price, dtype: float64"
      ]
     },
     "execution_count": 95,
     "metadata": {},
     "output_type": "execute_result"
    }
   ],
   "source": [
    "thirty_years_data=timeseries_data\n",
    "thirty_years_data"
   ]
  },
  {
   "cell_type": "code",
   "execution_count": 96,
   "metadata": {},
   "outputs": [
    {
     "name": "stdout",
     "output_type": "stream",
     "text": [
      "[187.0879]\n",
      "1 Year input [175.8        202.3        187.08790588]\n",
      "1 day output [[205.88356]\n",
      " [236.83698]\n",
      " [219.07784]]\n",
      "2 Year input [202.3        187.08790588 205.88356018]\n",
      "2 day output [[236.83698]\n",
      " [219.07784]\n",
      " [241.01778]]\n",
      "[187.0879, 205.88356, 236.83698]\n"
     ]
    }
   ],
   "source": [
    "x_input = ([159.75,175.8,202.3])\n",
    "\n",
    "temp_input=list(x_input)\n",
    "lst_output=[]\n",
    "i=0\n",
    "while(i<3):\n",
    "    \n",
    "    if(len(temp_input)>3):\n",
    "        x_input=np.array(temp_input[1:])\n",
    "        print(\"{} Year input {}\".format(i,x_input))\n",
    "        #print(x_input)\n",
    "        x_input = np.array(x_input).reshape((3, n_steps, n_features))\n",
    "        #print(x_input)\n",
    "        yhat = model.predict(x_input, verbose=0)\n",
    "        print(\"{} day output {}\".format(i,yhat))\n",
    "        temp_input.append(yhat[0][0])\n",
    "        temp_input=temp_input[1:]\n",
    "        #print(temp_input)\n",
    "        lst_output.append(yhat[0][0])\n",
    "        i=i+1\n",
    "    else:\n",
    "        x_input = np.array(x_input).reshape((3, n_steps, n_features))\n",
    "        yhat = model.predict(x_input, verbose=0)\n",
    "        print(yhat[0])\n",
    "        temp_input.append(yhat[0][0])\n",
    "        lst_output.append(yhat[0][0])\n",
    "        i=i+1\n",
    "    \n",
    "print(lst_output)"
   ]
  },
  {
   "cell_type": "code",
   "execution_count": 99,
   "metadata": {},
   "outputs": [
    {
     "name": "stdout",
     "output_type": "stream",
     "text": [
      "Original Price   \n",
      " 0      25.193\n",
      "1      30.090\n",
      "2      30.769\n",
      "3      34.216\n",
      "4      40.080\n",
      "5      44.006\n",
      "6      49.700\n",
      "7      51.815\n",
      "8      58.150\n",
      "9      59.900\n",
      "10     58.225\n",
      "11     57.230\n",
      "12     59.425\n",
      "13     59.770\n",
      "14     60.790\n",
      "15     61.650\n",
      "16     79.125\n",
      "17     84.400\n",
      "18     85.600\n",
      "19     89.780\n",
      "20     97.170\n",
      "21    105.250\n",
      "22    100.650\n",
      "23    104.700\n",
      "24    104.350\n",
      "25    110.400\n",
      "26    139.800\n",
      "27    154.500\n",
      "28    159.750\n",
      "29    175.800\n",
      "30    202.300\n",
      "Name: Price, dtype: float64\n"
     ]
    }
   ],
   "source": [
    "print(\"Original Price   \\n\",timeseries_data)"
   ]
  },
  {
   "cell_type": "code",
   "execution_count": 100,
   "metadata": {},
   "outputs": [
    {
     "data": {
      "text/plain": [
       "31"
      ]
     },
     "execution_count": 100,
     "metadata": {},
     "output_type": "execute_result"
    }
   ],
   "source": [
    "len(timeseries_data)"
   ]
  },
  {
   "cell_type": "code",
   "execution_count": 101,
   "metadata": {},
   "outputs": [
    {
     "data": {
      "text/plain": [
       "[187.0879, 205.88356, 236.83698]"
      ]
     },
     "execution_count": 101,
     "metadata": {},
     "output_type": "execute_result"
    }
   ],
   "source": [
    "lst_output"
   ]
  },
  {
   "cell_type": "code",
   "execution_count": 102,
   "metadata": {},
   "outputs": [],
   "source": [
    "import matplotlib.pyplot as plt"
   ]
  },
  {
   "cell_type": "code",
   "execution_count": 111,
   "metadata": {},
   "outputs": [],
   "source": [
    "Year_usd={\n",
    "    \n",
    "    \"Year\":['2023'],\n",
    "    \"USD_Price\":[236.83698]\n",
    "}\n",
    "df=pd.DataFrame(Year_usd)"
   ]
  },
  {
   "cell_type": "code",
   "execution_count": 113,
   "metadata": {},
   "outputs": [
    {
     "name": "stdout",
     "output_type": "stream",
     "text": [
      "Prediction of 2023  \n",
      "    Year  USD_Price\n",
      "0  2023  236.83698\n"
     ]
    }
   ],
   "source": [
    "print(\"Prediction of 2023  \\n\",df.head())"
   ]
  },
  {
   "cell_type": "code",
   "execution_count": 121,
   "metadata": {},
   "outputs": [
    {
     "data": {
      "text/html": [
       "<div>\n",
       "<style scoped>\n",
       "    .dataframe tbody tr th:only-of-type {\n",
       "        vertical-align: middle;\n",
       "    }\n",
       "\n",
       "    .dataframe tbody tr th {\n",
       "        vertical-align: top;\n",
       "    }\n",
       "\n",
       "    .dataframe thead th {\n",
       "        text-align: right;\n",
       "    }\n",
       "</style>\n",
       "<table border=\"1\" class=\"dataframe\">\n",
       "  <thead>\n",
       "    <tr style=\"text-align: right;\">\n",
       "      <th></th>\n",
       "      <th>Year</th>\n",
       "      <th>USD_Price</th>\n",
       "    </tr>\n",
       "  </thead>\n",
       "  <tbody>\n",
       "    <tr>\n",
       "      <td>0</td>\n",
       "      <td>2023</td>\n",
       "      <td>236.83698</td>\n",
       "    </tr>\n",
       "  </tbody>\n",
       "</table>\n",
       "</div>"
      ],
      "text/plain": [
       "   Year  USD_Price\n",
       "0  2023  236.83698"
      ]
     },
     "execution_count": 121,
     "metadata": {},
     "output_type": "execute_result"
    }
   ],
   "source": [
    "df.head()"
   ]
  },
  {
   "cell_type": "code",
   "execution_count": 122,
   "metadata": {},
   "outputs": [],
   "source": [
    "data= pd.read_csv(\"C:/Users/Jazi/Desktop/Data Science Challange by Jazib/Forcasting Yearly/Yearlydata.csv\")"
   ]
  },
  {
   "cell_type": "code",
   "execution_count": 130,
   "metadata": {},
   "outputs": [
    {
     "data": {
      "text/html": [
       "<div>\n",
       "<style scoped>\n",
       "    .dataframe tbody tr th:only-of-type {\n",
       "        vertical-align: middle;\n",
       "    }\n",
       "\n",
       "    .dataframe tbody tr th {\n",
       "        vertical-align: top;\n",
       "    }\n",
       "\n",
       "    .dataframe thead th {\n",
       "        text-align: right;\n",
       "    }\n",
       "</style>\n",
       "<table border=\"1\" class=\"dataframe\">\n",
       "  <thead>\n",
       "    <tr style=\"text-align: right;\">\n",
       "      <th></th>\n",
       "      <th>Date</th>\n",
       "      <th>Price</th>\n",
       "      <th>Open</th>\n",
       "      <th>High</th>\n",
       "      <th>Low</th>\n",
       "      <th>Change %</th>\n",
       "    </tr>\n",
       "  </thead>\n",
       "  <tbody>\n",
       "    <tr>\n",
       "      <td>26</td>\n",
       "      <td>2018</td>\n",
       "      <td>139.80</td>\n",
       "      <td>138.900</td>\n",
       "      <td>139.990</td>\n",
       "      <td>133.95</td>\n",
       "      <td>0.65%</td>\n",
       "    </tr>\n",
       "    <tr>\n",
       "      <td>27</td>\n",
       "      <td>2019</td>\n",
       "      <td>154.50</td>\n",
       "      <td>155.275</td>\n",
       "      <td>156.755</td>\n",
       "      <td>154.12</td>\n",
       "      <td>-0.42%</td>\n",
       "    </tr>\n",
       "    <tr>\n",
       "      <td>28</td>\n",
       "      <td>2020</td>\n",
       "      <td>159.75</td>\n",
       "      <td>159.500</td>\n",
       "      <td>164.125</td>\n",
       "      <td>159.05</td>\n",
       "      <td>0.60%</td>\n",
       "    </tr>\n",
       "    <tr>\n",
       "      <td>29</td>\n",
       "      <td>2021</td>\n",
       "      <td>175.80</td>\n",
       "      <td>176.100</td>\n",
       "      <td>178.660</td>\n",
       "      <td>174.80</td>\n",
       "      <td>0.05%</td>\n",
       "    </tr>\n",
       "    <tr>\n",
       "      <td>30</td>\n",
       "      <td>2022</td>\n",
       "      <td>202.30</td>\n",
       "      <td>185.700</td>\n",
       "      <td>202.375</td>\n",
       "      <td>185.25</td>\n",
       "      <td>9.12%</td>\n",
       "    </tr>\n",
       "  </tbody>\n",
       "</table>\n",
       "</div>"
      ],
      "text/plain": [
       "    Date   Price     Open     High     Low Change %\n",
       "26  2018  139.80  138.900  139.990  133.95    0.65%\n",
       "27  2019  154.50  155.275  156.755  154.12   -0.42%\n",
       "28  2020  159.75  159.500  164.125  159.05    0.60%\n",
       "29  2021  175.80  176.100  178.660  174.80    0.05%\n",
       "30  2022  202.30  185.700  202.375  185.25    9.12%"
      ]
     },
     "execution_count": 130,
     "metadata": {},
     "output_type": "execute_result"
    }
   ],
   "source": [
    "data.tail()"
   ]
  },
  {
   "cell_type": "code",
   "execution_count": 125,
   "metadata": {},
   "outputs": [],
   "source": [
    "data1=pd.read_csv(\"C:/Users/Jazi/Desktop/Data Science Challange by Jazib/Forcasting Yearly/Forcasting_2023.csv\")"
   ]
  },
  {
   "cell_type": "code",
   "execution_count": 126,
   "metadata": {},
   "outputs": [
    {
     "data": {
      "text/html": [
       "<div>\n",
       "<style scoped>\n",
       "    .dataframe tbody tr th:only-of-type {\n",
       "        vertical-align: middle;\n",
       "    }\n",
       "\n",
       "    .dataframe tbody tr th {\n",
       "        vertical-align: top;\n",
       "    }\n",
       "\n",
       "    .dataframe thead th {\n",
       "        text-align: right;\n",
       "    }\n",
       "</style>\n",
       "<table border=\"1\" class=\"dataframe\">\n",
       "  <thead>\n",
       "    <tr style=\"text-align: right;\">\n",
       "      <th></th>\n",
       "      <th>Year</th>\n",
       "      <th>USD Rate</th>\n",
       "    </tr>\n",
       "  </thead>\n",
       "  <tbody>\n",
       "    <tr>\n",
       "      <td>0</td>\n",
       "      <td>2023</td>\n",
       "      <td>236.83698</td>\n",
       "    </tr>\n",
       "  </tbody>\n",
       "</table>\n",
       "</div>"
      ],
      "text/plain": [
       "   Year   USD Rate\n",
       "0  2023  236.83698"
      ]
     },
     "execution_count": 126,
     "metadata": {},
     "output_type": "execute_result"
    }
   ],
   "source": [
    "data1"
   ]
  },
  {
   "cell_type": "code",
   "execution_count": 139,
   "metadata": {
    "collapsed": true
   },
   "outputs": [
    {
     "data": {
      "text/plain": [
       "Text(0.5, 0, 'Year')"
      ]
     },
     "execution_count": 139,
     "metadata": {},
     "output_type": "execute_result"
    },
    {
     "data": {
      "image/png": "[encoded data removed]",
      "text/plain": [
       "<Figure size 1440x720 with 1 Axes>"
      ]
     },
     "metadata": {
      "needs_background": "light"
     },
     "output_type": "display_data"
    }
   ],
   "source": [
    "plt.figure(figsize=(20,10))\n",
    "x=data1['Year']\n",
    "y=data1['USD Rate']\n",
    "x1=data['Date']\n",
    "y1=data['Price']\n",
    "plt.plot(x,y,color='b',label='Original USD Rate')\n",
    "plt.plot(x1,y1,color='r',label='Predicted USD Rate')\n",
    "plt.ylabel('USD Rate')\n",
    "plt.xlabel('Year')     #in this ghraph there is a mistake so please consider the last one of histogram"
   ]
  },
  {
   "cell_type": "code",
   "execution_count": 148,
   "metadata": {},
   "outputs": [
    {
     "data": {
      "text/plain": [
       "<matplotlib.legend.Legend at 0x17df7472908>"
      ]
     },
     "execution_count": 148,
     "metadata": {},
     "output_type": "execute_result"
    },
    {
     "data": {
      "image/png": "[encoded data removed]",
      "text/plain": [
       "<Figure size 1080x576 with 1 Axes>"
      ]
     },
     "metadata": {
      "needs_background": "light"
     },
     "output_type": "display_data"
    }
   ],
   "source": [
    "plt.figure(figsize=(15,8))\n",
    "plt.bar(x,y, label='Original')\n",
    "plt.bar(x1,y1, label='Predicted')\n",
    "plt.legend()"
   ]
  },
  {
   "cell_type": "markdown",
   "metadata": {},
   "source": [
    "# # In 2023 the Us dollar rate will be 236.83 according to the prediction"
   ]
  },
  {
   "cell_type": "code",
   "execution_count": null,
   "metadata": {},
   "outputs": [],
   "source": []
  }
 ],
 "metadata": {
  "kernelspec": {
   "display_name": "Python 3",
   "language": "python",
   "name": "python3"
  },
  "language_info": {
   "codemirror_mode": {
    "name": "ipython",
    "version": 3
   },
   "file_extension": ".py",
   "mimetype": "text/x-python",
   "name": "python",
   "nbconvert_exporter": "python",
   "pygments_lexer": "ipython3",
   "version": "3.7.4"
  }
 },
 "nbformat": 4,
 "nbformat_minor": 2
}
